{
 "cells": [
  {
   "cell_type": "code",
   "execution_count": 20,
   "id": "6c782aab",
   "metadata": {},
   "outputs": [
    {
     "name": "stdout",
     "output_type": "stream",
     "text": [
      "5.1, 3.5, 1.4, 0.2, Iris-setosa\n",
      "4.9, 3.0, 1.4, 0.2, Iris-setosa\n",
      "4.7, 3.2, 1.3, 0.2, Iris-setosa\n",
      "4.6, 3.1, 1.5, 0.2, Iris-setosa\n",
      "5.0, 3.6, 1.4, 0.2, Iris-setosa\n",
      "5.4, 3.9, 1.7, 0.4, Iris-setosa\n",
      "4.6, 3.4, 1.4, 0.3, Iris-setosa\n",
      "5.0, 3.4, 1.5, 0.2, Iris-setosa\n",
      "4.4, 2.9, 1.4, 0.2, Iris-setosa\n",
      "4.9, 3.1, 1.5, 0.1, Iris-setosa\n",
      "5.4, 3.7, 1.5, 0.2, Iris-setosa\n",
      "4.8, 3.4, 1.6, 0.2, Iris-setosa\n",
      "4.8, 3.0, 1.4, 0.1, Iris-setosa\n",
      "4.3, 3.0, 1.1, 0.1, Iris-setosa\n",
      "5.8, 4.0, 1.2, 0.2, Iris-setosa\n",
      "5.7, 4.4, 1.5, 0.4, Iris-setosa\n",
      "5.4, 3.9, 1.3, 0.4, Iris-setosa\n",
      "5.1, 3.5, 1.4, 0.3, Iris-setosa\n",
      "5.7, 3.8, 1.7, 0.3, Iris-setosa\n",
      "5.1, 3.8, 1.5, 0.3, Iris-setosa\n",
      "5.4, 3.4, 1.7, 0.2, Iris-setosa\n",
      "5.1, 3.7, 1.5, 0.4, Iris-setosa\n",
      "4.6, 3.6, 1.0, 0.2, Iris-setosa\n",
      "5.1, 3.3, 1.7, 0.5, Iris-setosa\n",
      "4.8, 3.4, 1.9, 0.2, Iris-setosa\n",
      "5.0, 3.0, 1.6, 0.2, Iris-setosa\n",
      "5.0, 3.4, 1.6, 0.4, Iris-setosa\n",
      "5.2, 3.5, 1.5, 0.2, Iris-setosa\n",
      "5.2, 3.4, 1.4, 0.2, Iris-setosa\n",
      "4.7, 3.2, 1.6, 0.2, Iris-setosa\n",
      "4.8, 3.1, 1.6, 0.2, Iris-setosa\n",
      "5.4, 3.4, 1.5, 0.4, Iris-setosa\n",
      "5.2, 4.1, 1.5, 0.1, Iris-setosa\n",
      "5.5, 4.2, 1.4, 0.2, Iris-setosa\n",
      "4.9, 3.1, 1.5, 0.1, Iris-setosa\n",
      "5.0, 3.2, 1.2, 0.2, Iris-setosa\n",
      "5.5, 3.5, 1.3, 0.2, Iris-setosa\n",
      "4.9, 3.1, 1.5, 0.1, Iris-setosa\n",
      "4.4, 3.0, 1.3, 0.2, Iris-setosa\n",
      "5.1, 3.4, 1.5, 0.2, Iris-setosa\n",
      "5.0, 3.5, 1.3, 0.3, Iris-setosa\n",
      "4.5, 2.3, 1.3, 0.3, Iris-setosa\n",
      "4.4, 3.2, 1.3, 0.2, Iris-setosa\n",
      "5.0, 3.5, 1.6, 0.6, Iris-setosa\n",
      "5.1, 3.8, 1.9, 0.4, Iris-setosa\n",
      "4.8, 3.0, 1.4, 0.3, Iris-setosa\n",
      "5.1, 3.8, 1.6, 0.2, Iris-setosa\n",
      "4.6, 3.2, 1.4, 0.2, Iris-setosa\n",
      "5.3, 3.7, 1.5, 0.2, Iris-setosa\n",
      "5.0, 3.3, 1.4, 0.2, Iris-setosa\n",
      "7.0, 3.2, 4.7, 1.4, Iris-versicolor\n",
      "6.4, 3.2, 4.5, 1.5, Iris-versicolor\n",
      "6.9, 3.1, 4.9, 1.5, Iris-versicolor\n",
      "5.5, 2.3, 4.0, 1.3, Iris-versicolor\n",
      "6.5, 2.8, 4.6, 1.5, Iris-versicolor\n",
      "5.7, 2.8, 4.5, 1.3, Iris-versicolor\n",
      "6.3, 3.3, 4.7, 1.6, Iris-versicolor\n",
      "4.9, 2.4, 3.3, 1.0, Iris-versicolor\n",
      "6.6, 2.9, 4.6, 1.3, Iris-versicolor\n",
      "5.2, 2.7, 3.9, 1.4, Iris-versicolor\n",
      "5.0, 2.0, 3.5, 1.0, Iris-versicolor\n",
      "5.9, 3.0, 4.2, 1.5, Iris-versicolor\n",
      "6.0, 2.2, 4.0, 1.0, Iris-versicolor\n",
      "6.1, 2.9, 4.7, 1.4, Iris-versicolor\n",
      "5.6, 2.9, 3.6, 1.3, Iris-versicolor\n",
      "6.7, 3.1, 4.4, 1.4, Iris-versicolor\n",
      "5.6, 3.0, 4.5, 1.5, Iris-versicolor\n",
      "5.8, 2.7, 4.1, 1.0, Iris-versicolor\n",
      "6.2, 2.2, 4.5, 1.5, Iris-versicolor\n",
      "5.6, 2.5, 3.9, 1.1, Iris-versicolor\n",
      "5.9, 3.2, 4.8, 1.8, Iris-versicolor\n",
      "6.1, 2.8, 4.0, 1.3, Iris-versicolor\n",
      "6.3, 2.5, 4.9, 1.5, Iris-versicolor\n",
      "6.1, 2.8, 4.7, 1.2, Iris-versicolor\n",
      "6.4, 2.9, 4.3, 1.3, Iris-versicolor\n",
      "6.6, 3.0, 4.4, 1.4, Iris-versicolor\n",
      "6.8, 2.8, 4.8, 1.4, Iris-versicolor\n",
      "6.7, 3.0, 5.0, 1.7, Iris-versicolor\n",
      "6.0, 2.9, 4.5, 1.5, Iris-versicolor\n",
      "5.7, 2.6, 3.5, 1.0, Iris-versicolor\n",
      "5.5, 2.4, 3.8, 1.1, Iris-versicolor\n",
      "5.5, 2.4, 3.7, 1.0, Iris-versicolor\n",
      "5.8, 2.7, 3.9, 1.2, Iris-versicolor\n",
      "6.0, 2.7, 5.1, 1.6, Iris-versicolor\n",
      "5.4, 3.0, 4.5, 1.5, Iris-versicolor\n",
      "6.0, 3.4, 4.5, 1.6, Iris-versicolor\n",
      "6.7, 3.1, 4.7, 1.5, Iris-versicolor\n",
      "6.3, 2.3, 4.4, 1.3, Iris-versicolor\n",
      "5.6, 3.0, 4.1, 1.3, Iris-versicolor\n",
      "5.5, 2.5, 4.0, 1.3, Iris-versicolor\n",
      "5.5, 2.6, 4.4, 1.2, Iris-versicolor\n",
      "6.1, 3.0, 4.6, 1.4, Iris-versicolor\n",
      "5.8, 2.6, 4.0, 1.2, Iris-versicolor\n",
      "5.0, 2.3, 3.3, 1.0, Iris-versicolor\n",
      "5.6, 2.7, 4.2, 1.3, Iris-versicolor\n",
      "5.7, 3.0, 4.2, 1.2, Iris-versicolor\n",
      "5.7, 2.9, 4.2, 1.3, Iris-versicolor\n",
      "6.2, 2.9, 4.3, 1.3, Iris-versicolor\n",
      "5.1, 2.5, 3.0, 1.1, Iris-versicolor\n",
      "5.7, 2.8, 4.1, 1.3, Iris-versicolor\n",
      "6.3, 3.3, 6.0, 2.5, Iris-virginica\n",
      "5.8, 2.7, 5.1, 1.9, Iris-virginica\n",
      "7.1, 3.0, 5.9, 2.1, Iris-virginica\n",
      "6.3, 2.9, 5.6, 1.8, Iris-virginica\n",
      "6.5, 3.0, 5.8, 2.2, Iris-virginica\n",
      "7.6, 3.0, 6.6, 2.1, Iris-virginica\n",
      "4.9, 2.5, 4.5, 1.7, Iris-virginica\n",
      "7.3, 2.9, 6.3, 1.8, Iris-virginica\n",
      "6.7, 2.5, 5.8, 1.8, Iris-virginica\n",
      "7.2, 3.6, 6.1, 2.5, Iris-virginica\n",
      "6.5, 3.2, 5.1, 2.0, Iris-virginica\n",
      "6.4, 2.7, 5.3, 1.9, Iris-virginica\n",
      "6.8, 3.0, 5.5, 2.1, Iris-virginica\n",
      "5.7, 2.5, 5.0, 2.0, Iris-virginica\n",
      "5.8, 2.8, 5.1, 2.4, Iris-virginica\n",
      "6.4, 3.2, 5.3, 2.3, Iris-virginica\n",
      "6.5, 3.0, 5.5, 1.8, Iris-virginica\n",
      "7.7, 3.8, 6.7, 2.2, Iris-virginica\n",
      "7.7, 2.6, 6.9, 2.3, Iris-virginica\n",
      "6.0, 2.2, 5.0, 1.5, Iris-virginica\n",
      "6.9, 3.2, 5.7, 2.3, Iris-virginica\n",
      "5.6, 2.8, 4.9, 2.0, Iris-virginica\n",
      "7.7, 2.8, 6.7, 2.0, Iris-virginica\n",
      "6.3, 2.7, 4.9, 1.8, Iris-virginica\n",
      "6.7, 3.3, 5.7, 2.1, Iris-virginica\n",
      "7.2, 3.2, 6.0, 1.8, Iris-virginica\n",
      "6.2, 2.8, 4.8, 1.8, Iris-virginica\n",
      "6.1, 3.0, 4.9, 1.8, Iris-virginica\n",
      "6.4, 2.8, 5.6, 2.1, Iris-virginica\n",
      "7.2, 3.0, 5.8, 1.6, Iris-virginica\n",
      "7.4, 2.8, 6.1, 1.9, Iris-virginica\n",
      "7.9, 3.8, 6.4, 2.0, Iris-virginica\n",
      "6.4, 2.8, 5.6, 2.2, Iris-virginica\n",
      "6.3, 2.8, 5.1, 1.5, Iris-virginica\n",
      "6.1, 2.6, 5.6, 1.4, Iris-virginica\n",
      "7.7, 3.0, 6.1, 2.3, Iris-virginica\n",
      "6.3, 3.4, 5.6, 2.4, Iris-virginica\n",
      "6.4, 3.1, 5.5, 1.8, Iris-virginica\n",
      "6.0, 3.0, 4.8, 1.8, Iris-virginica\n",
      "6.9, 3.1, 5.4, 2.1, Iris-virginica\n",
      "6.7, 3.1, 5.6, 2.4, Iris-virginica\n",
      "6.9, 3.1, 5.1, 2.3, Iris-virginica\n",
      "5.8, 2.7, 5.1, 1.9, Iris-virginica\n",
      "6.8, 3.2, 5.9, 2.3, Iris-virginica\n",
      "6.7, 3.3, 5.7, 2.5, Iris-virginica\n",
      "6.7, 3.0, 5.2, 2.3, Iris-virginica\n",
      "6.3, 2.5, 5.0, 1.9, Iris-virginica\n",
      "6.5, 3.0, 5.2, 2.0, Iris-virginica\n",
      "6.2, 3.4, 5.4, 2.3, Iris-virginica\n",
      "5.9, 3.0, 5.1, 1.8, Iris-virginica\n"
     ]
    }
   ],
   "source": [
    "import csv\n",
    "csvfile=open('iris.data.txt', 'r')\n",
    "lines = csv.reader(csvfile)\n",
    "for row in lines :\n",
    "    print (', '.join(row))"
   ]
  },
  {
   "cell_type": "code",
   "execution_count": 21,
   "id": "a4bab880",
   "metadata": {},
   "outputs": [
    {
     "name": "stdout",
     "output_type": "stream",
     "text": [
      "Train: 355\n",
      "Test: 241\n",
      "([5.1, 3.5, 4.9, 3.0, 1.4, 0.2, 4.7, 3.2, 0.2, 4.6, 3.1, 0.2, 3.6, 5.4, 1.7, 0.4, 4.6, 3.4, 1.4, 5.0, 3.4, 4.4, 1.4, 0.2, 3.1, 0.1, 5.4, 3.7, 1.5, 0.2, 4.8, 3.0, 4.3, 1.1, 0.1, 5.8, 4.0, 1.2, 0.2, 1.5, 0.4, 5.4, 3.9, 1.3, 0.4, 3.8, 0.3, 3.8, 1.5, 0.3, 5.4, 3.4, 1.7, 0.2, 1.5, 0.4, 4.6, 1.0, 1.7, 0.5, 4.8, 3.4, 1.9, 0.2, 5.0, 3.0, 3.4, 1.6, 3.5, 0.2, 3.4, 1.4, 4.7, 3.2, 4.8, 5.4, 3.4, 1.5, 0.4, 5.2, 0.1, 4.2, 1.4, 0.2, 0.1, 1.2, 0.2, 5.5, 1.3, 0.2, 4.9, 3.1, 1.5, 0.1, 4.4, 3.0, 1.3, 5.1, 1.5, 1.3, 0.3, 2.3, 4.4, 3.2, 0.2, 5.0, 1.6, 0.6, 5.1, 3.8, 1.9, 3.0, 1.4, 5.1, 3.8, 1.6, 0.2, 3.2, 1.4, 0.2, 5.3, 3.7, 1.5, 0.2, 5.0, 3.3, 1.4, 0.2, 4.7, 6.4, 6.9, 3.1, 4.9, 1.5, 5.5, 2.3, 4.0, 2.8, 1.5, 4.5, 6.3, 3.3, 4.7, 2.4, 3.3, 6.6, 2.9, 4.6, 5.2, 1.4, 2.0, 3.5, 1.0, 5.9, 3.0, 1.5, 6.0, 2.2, 1.0, 6.1, 2.9, 3.6, 1.3, 6.7, 3.1, 1.4, 3.0, 1.5, 5.8, 2.7, 4.1, 1.0, 1.5, 5.6, 3.9, 1.1, 6.1, 2.8, 4.0, 6.3, 2.5, 1.5, 2.8, 4.7, 1.2, 6.4, 2.9, 4.3, 6.6, 3.0, 1.4, 6.8, 2.8, 4.8, 5.0, 2.9, 1.5, 5.7, 2.6, 1.0, 2.4, 3.8, 1.1, 5.5, 2.4, 3.7, 1.0, 1.2, 6.0, 2.7, 5.1, 3.0, 4.5, 6.0, 3.4, 1.6, 3.1, 4.7, 2.3, 4.4, 3.0, 4.1, 1.3, 5.5, 2.5, 4.0, 1.3, 5.5, 2.6, 1.2, 6.1, 4.6, 1.4, 2.6, 1.2, 5.0, 2.3, 3.3, 5.6, 1.3, 5.7, 3.0, 4.2, 5.7, 1.3, 2.9, 4.3, 1.3, 2.5, 1.1, 1.3, 6.3, 5.8, 1.9, 7.1, 3.0, 5.9, 2.1, 2.9, 5.6, 1.8, 3.0, 5.8, 7.6, 3.0, 6.6, 2.1, 4.9, 2.5, 1.7, 7.3, 5.8, 1.8, 5.1, 6.4, 5.3, 1.9, 6.8, 3.0, 2.1, 5.7, 2.8, 5.3, 6.5, 5.5, 7.7, 6.7, 2.2, 2.6, 6.9, 2.2, 6.9, 5.7, 2.3, 5.6, 2.0, 6.7, 2.7, 4.9, 3.3, 2.1, 6.1, 4.9, 1.8, 6.4, 2.8, 5.6, 2.1, 7.2, 3.0, 5.8, 1.6, 7.4, 2.8, 1.9, 7.9, 6.4, 2.0, 6.4, 2.8, 5.6, 6.3, 5.1, 6.1, 5.6, 7.7, 6.3, 3.4, 5.6, 6.4, 3.1, 6.0, 1.8, 6.9, 3.1, 5.4, 3.1, 2.4, 3.1, 5.1, 2.3, 5.8, 1.9, 3.2, 2.3, 6.7, 5.7, 2.5, 6.3, 3.0, 5.2, 2.0, 3.4, 5.4, 2.3], [1.4, 0.2, 1.3, 1.5, 5.0, 1.4, 0.2, 3.9, 0.3, 1.5, 0.2, 2.9, 4.9, 1.5, 0.2, 4.8, 3.4, 1.6, 1.4, 0.1, 3.0, 5.7, 4.4, 5.1, 3.5, 1.4, 0.3, 5.7, 1.7, 5.1, 5.1, 3.7, 3.6, 0.2, 5.1, 3.3, 1.6, 0.2, 5.0, 0.4, 5.2, 1.5, 5.2, 0.2, 1.6, 0.2, 3.1, 1.6, 0.2, 4.1, 1.5, 5.5, 4.9, 3.1, 1.5, 5.0, 3.2, 3.5, 0.2, 3.4, 0.2, 5.0, 3.5, 4.5, 1.3, 0.3, 1.3, 3.5, 0.4, 4.8, 0.3, 4.6, 7.0, 3.2, 1.4, 3.2, 4.5, 1.5, 1.3, 6.5, 4.6, 5.7, 2.8, 1.3, 1.6, 4.9, 1.0, 1.3, 2.7, 3.9, 5.0, 4.2, 4.0, 4.7, 1.4, 5.6, 2.9, 4.4, 5.6, 4.5, 6.2, 2.2, 4.5, 2.5, 5.9, 3.2, 4.8, 1.8, 1.3, 4.9, 6.1, 1.3, 4.4, 1.4, 6.7, 3.0, 1.7, 6.0, 4.5, 3.5, 5.5, 5.8, 2.7, 3.9, 1.6, 5.4, 1.5, 4.5, 6.7, 1.5, 6.3, 1.3, 5.6, 4.4, 3.0, 5.8, 4.0, 1.0, 2.7, 4.2, 1.2, 2.9, 4.2, 6.2, 5.1, 3.0, 5.7, 2.8, 4.1, 3.3, 6.0, 2.5, 2.7, 5.1, 6.3, 6.5, 2.2, 4.5, 2.9, 6.3, 1.8, 6.7, 2.5, 7.2, 3.6, 6.1, 2.5, 6.5, 3.2, 2.0, 2.7, 5.5, 2.5, 5.0, 2.0, 5.8, 5.1, 2.4, 6.4, 3.2, 2.3, 3.0, 1.8, 3.8, 7.7, 2.3, 6.0, 5.0, 1.5, 3.2, 2.8, 4.9, 7.7, 2.8, 2.0, 6.3, 1.8, 6.7, 5.7, 7.2, 3.2, 6.0, 1.8, 6.2, 2.8, 4.8, 1.8, 3.0, 6.1, 3.8, 2.2, 2.8, 1.5, 2.6, 1.4, 3.0, 6.1, 2.3, 2.4, 5.5, 1.8, 3.0, 4.8, 2.1, 6.7, 5.6, 6.9, 2.7, 5.1, 6.8, 5.9, 3.3, 6.7, 3.0, 5.2, 2.3, 2.5, 5.0, 1.9, 6.5, 6.2])\n"
     ]
    }
   ],
   "source": [
    "import random\n",
    "def loadDataset(filename, split, trainingSet=[] , testSet=[]):\n",
    "    csvfile=open(filename, 'r')\n",
    "    lines = csv.reader(csvfile)\n",
    "    dataset = list(lines)\n",
    "    for x in range(len(dataset)-1):\n",
    "        for y in range(4):\n",
    "            dataset[x][y] = float(dataset[x][y])\n",
    "\n",
    "            if random.random() < split:\n",
    "                trainingSet.append(dataset[x][y])\n",
    "            else:\n",
    "                testSet.append(dataset[x][y])\n",
    "    print ('Train: ' + repr(len(trainingSet)))\n",
    "    print ('Test: ' + repr(len(testSet)) )  \n",
    "    return trainingSet,testSet\n",
    "print(loadDataset(\"iris.data.txt\", 0.6))\n",
    "                \n",
    "        "
   ]
  },
  {
   "cell_type": "code",
   "execution_count": 22,
   "id": "d863c3f9",
   "metadata": {},
   "outputs": [
    {
     "data": {
      "text/plain": [
       "5.196152422706632"
      ]
     },
     "execution_count": 22,
     "metadata": {},
     "output_type": "execute_result"
    }
   ],
   "source": [
    "import math\n",
    "def euclideanDistance(instance1, instance2, length):\n",
    "    distance=0\n",
    "    for i in range(length):\n",
    "        distance += (instance1[i] - instance2[i]) ** 2\n",
    "    return math.sqrt(distance)\n",
    "euclideanDistance([1,2,3],[4,5,6],3)\n"
   ]
  },
  {
   "cell_type": "code",
   "execution_count": 23,
   "id": "2ec3851a",
   "metadata": {},
   "outputs": [
    {
     "name": "stdout",
     "output_type": "stream",
     "text": [
      "[[4, 4, 4, 4, 'b']]\n"
     ]
    }
   ],
   "source": [
    "import operator\n",
    "def getNeighbors(trainingSet, testInstance, k):\n",
    "    distances = []\n",
    "    length = len(testInstance)-1\n",
    "    for x in range(len(trainingSet)):\n",
    "        dist = euclideanDistance(testInstance, trainingSet[x], length)\n",
    "        distances.append((trainingSet[x], dist))\n",
    "    distances.sort(key=operator.itemgetter(1))\n",
    "    neighbors = []\n",
    "    for x in range(k):\n",
    "        neighbors.append(distances[x][0])\n",
    "    return neighbors\n",
    "\n",
    "trainSet = [[2, 2, 2, 'a'], [4, 4, 4, 'b']]\n",
    "testInstance = [5, 5, 5]\n",
    "k = 1\n",
    "neighbors = getNeighbors(trainSet, testInstance, 1)\n",
    "print(neighbors)"
   ]
  },
  {
   "cell_type": "code",
   "execution_count": 17,
   "id": "15f8f68f",
   "metadata": {},
   "outputs": [
    {
     "name": "stdout",
     "output_type": "stream",
     "text": [
      "{'b': 1}\n"
     ]
    }
   ],
   "source": [
    "import operator\n",
    "def getResponse(neighbors):\n",
    "    classVotes = {}\n",
    "    for x in range(len(neighbors)):\n",
    "        response = neighbors[x][3]\n",
    "        if response in classVotes.keys():\n",
    "            classVotes[response]+=1\n",
    "        else:\n",
    "            classVotes[response]=1\n",
    "    return classVotes\n",
    "print(getResponse([[4, 4, 4, 'b']]))\n",
    "            \n",
    "            \n",
    "        "
   ]
  },
  {
   "cell_type": "code",
   "execution_count": 24,
   "id": "93508619",
   "metadata": {},
   "outputs": [
    {
     "name": "stdout",
     "output_type": "stream",
     "text": [
      "32.0\n"
     ]
    }
   ],
   "source": [
    "correct=0.96\n",
    "def getAccuracy(testSet, predictions):\n",
    "    return (correct/float(len(testSet))) * 100.0\n",
    "testSet = [[1,1,1,'a'], [2,2,2,'a'], [3,3,3,'b']]\n",
    "\n",
    "predictions = ['a', 'a', 'a']\n",
    "\n",
    "accuracy = getAccuracy(testSet, predictions)\n",
    "\n",
    "print(accuracy)"
   ]
  },
  {
   "cell_type": "code",
   "execution_count": 29,
   "id": "4ed290fe",
   "metadata": {},
   "outputs": [
    {
     "name": "stdout",
     "output_type": "stream",
     "text": [
      "Train: 1780\n",
      "Test: 1200\n"
     ]
    },
    {
     "ename": "TypeError",
     "evalue": "'float' object is not subscriptable",
     "output_type": "error",
     "traceback": [
      "\u001b[1;31m---------------------------------------------------------------------------\u001b[0m",
      "\u001b[1;31mTypeError\u001b[0m                                 Traceback (most recent call last)",
      "Cell \u001b[1;32mIn[29], line 6\u001b[0m\n\u001b[0;32m      4\u001b[0m     classVotes\u001b[38;5;241m=\u001b[39mgetResponse(neighbors)\n\u001b[0;32m      5\u001b[0m     \u001b[38;5;28mprint\u001b[39m(classVotes)\n\u001b[1;32m----> 6\u001b[0m main(\u001b[38;5;124m'\u001b[39m\u001b[38;5;124miris.data.txt\u001b[39m\u001b[38;5;124m'\u001b[39m,\u001b[38;5;241m0.6\u001b[39m,\u001b[38;5;241m1\u001b[39m,[])\n",
      "Cell \u001b[1;32mIn[29], line 4\u001b[0m, in \u001b[0;36mmain\u001b[1;34m(File_name, training_percent, k, trainingSet, testSet)\u001b[0m\n\u001b[0;32m      2\u001b[0m trainingSet,trainingSet\u001b[38;5;241m=\u001b[39mloadDataset(File_name,training_percent)\n\u001b[0;32m      3\u001b[0m neighbors\u001b[38;5;241m=\u001b[39mgetNeighbors(trainingSet, testSet, k)\n\u001b[1;32m----> 4\u001b[0m classVotes\u001b[38;5;241m=\u001b[39mgetResponse(neighbors)\n\u001b[0;32m      5\u001b[0m \u001b[38;5;28mprint\u001b[39m(classVotes)\n",
      "Cell \u001b[1;32mIn[17], line 5\u001b[0m, in \u001b[0;36mgetResponse\u001b[1;34m(neighbors)\u001b[0m\n\u001b[0;32m      3\u001b[0m classVotes \u001b[38;5;241m=\u001b[39m {}\n\u001b[0;32m      4\u001b[0m \u001b[38;5;28;01mfor\u001b[39;00m x \u001b[38;5;129;01min\u001b[39;00m \u001b[38;5;28mrange\u001b[39m(\u001b[38;5;28mlen\u001b[39m(neighbors)):\n\u001b[1;32m----> 5\u001b[0m     response \u001b[38;5;241m=\u001b[39m neighbors[x][\u001b[38;5;241m3\u001b[39m]\n\u001b[0;32m      6\u001b[0m     \u001b[38;5;28;01mif\u001b[39;00m response \u001b[38;5;129;01min\u001b[39;00m classVotes\u001b[38;5;241m.\u001b[39mkeys():\n\u001b[0;32m      7\u001b[0m         classVotes[response]\u001b[38;5;241m+\u001b[39m\u001b[38;5;241m=\u001b[39m\u001b[38;5;241m1\u001b[39m\n",
      "\u001b[1;31mTypeError\u001b[0m: 'float' object is not subscriptable"
     ]
    }
   ],
   "source": [
    "def main(File_name,training_percent,k,trainingSet=[],testSet=[]):\n",
    "    trainingSet,trainingSet=loadDataset(File_name,training_percent)\n",
    "    neighbors=getNeighbors(trainingSet, testSet, k)\n",
    "    classVotes=getResponse(neighbors)\n",
    "    print(classVotes)\n",
    "main('iris.data.txt',0.6,1,[])\n",
    "    "
   ]
  },
  {
   "cell_type": "code",
   "execution_count": 28,
   "id": "c99c0316",
   "metadata": {},
   "outputs": [
    {
     "data": {
      "text/plain": [
       "5.196152422706632"
      ]
     },
     "execution_count": 28,
     "metadata": {},
     "output_type": "execute_result"
    }
   ],
   "source": [
    "def Manhattan(instance1, instance2, length):\n",
    "    distance=0\n",
    "    for i in range(length):\n",
    "        distance += math.abs(instance1[i] - instance2[i])\n",
    "    return distance\n",
    "euclideanDistance([1,2,3],[4,5,6],3)"
   ]
  }
 ],
 "metadata": {
  "kernelspec": {
   "display_name": "Python 3 (ipykernel)",
   "language": "python",
   "name": "python3"
  },
  "language_info": {
   "codemirror_mode": {
    "name": "ipython",
    "version": 3
   },
   "file_extension": ".py",
   "mimetype": "text/x-python",
   "name": "python",
   "nbconvert_exporter": "python",
   "pygments_lexer": "ipython3",
   "version": "3.11.5"
  }
 },
 "nbformat": 4,
 "nbformat_minor": 5
}
